{
 "cells": [
  {
   "cell_type": "markdown",
   "metadata": {},
   "source": [
    "Departure Airport with the Highest Delayed and Cancelled Flights"
   ]
  },
  {
   "cell_type": "code",
   "execution_count": 2,
   "metadata": {},
   "outputs": [
    {
     "name": "stdout",
     "output_type": "stream",
     "text": [
      "| Airport Name         |   Count Cancelled or Delayed |   Count All |   Percent Cancelled or Delayed |\n",
      "|:---------------------|-----------------------------:|------------:|-------------------------------:|\n",
      "| Buka Airport         |                           17 |          17 |                            100 |\n",
      "| Førde Airport        |                           14 |          14 |                            100 |\n",
      "| Shaikh Zaid Airport  |                           13 |          13 |                            100 |\n",
      "| Carutapera Airport   |                           13 |          13 |                            100 |\n",
      "| Maimun Saleh Airport |                           13 |          13 |                            100 |\n",
      "| Sudbury Airport      |                           12 |          12 |                            100 |\n",
      "| Jomsom Airport       |                           12 |          12 |                            100 |\n",
      "| Tau Airport          |                           12 |          12 |                            100 |\n",
      "| Kabwum               |                           12 |          12 |                            100 |\n",
      "| Kirk Field           |                           11 |          11 |                            100 |\n"
     ]
    }
   ],
   "source": [
    "import pandas as pd\n",
    "\n",
    "# Load the dataset\n",
    "data = pd.read_csv('Airline.csv')\n",
    "\n",
    "# Group data by 'Airport Name' and 'Flight Status' and count occurrences\n",
    "status_counts = data.groupby(['Airport Name', 'Flight Status']).size().unstack(fill_value=0)\n",
    "\n",
    "# Calculate the total flights for each airport\n",
    "status_counts['Total Flights'] = status_counts.sum(axis=1)\n",
    "\n",
    "# Calculate the count of Cancelled or Delayed flights\n",
    "status_counts['Count Cancelled or Delayed'] = status_counts.get('Cancelled', 0) + status_counts.get('Delayed', 0)\n",
    "\n",
    "# Calculate the percentage of Cancelled or Delayed flights\n",
    "status_counts['Percent Cancelled or Delayed'] = (status_counts['Count Cancelled or Delayed'] / status_counts['Total Flights']) * 100\n",
    "\n",
    "# Filter to only include airports where all flights are either cancelled or delayed\n",
    "filtered_airports = status_counts[status_counts['Percent Cancelled or Delayed'] == 100]\n",
    "\n",
    "# Sort the airports by 'Count Cancelled or Delayed' in descending order and get the top 10\n",
    "top_airports = filtered_airports.sort_values('Count Cancelled or Delayed', ascending=False).head(10)\n",
    "\n",
    "# Prepare the DataFrame to display\n",
    "final_df = pd.DataFrame({\n",
    "    'Airport Name': top_airports.index,\n",
    "    'Count Cancelled or Delayed': top_airports['Count Cancelled or Delayed'],\n",
    "    'Count All': top_airports['Total Flights'],\n",
    "    'Percent Cancelled or Delayed': top_airports['Percent Cancelled or Delayed']\n",
    "})\n",
    "\n",
    "# Print the result in the specified format\n",
    "print(final_df.to_markdown(index=False))\n"
   ]
  },
  {
   "cell_type": "markdown",
   "metadata": {},
   "source": [
    "Countries with the Highest Delayed and Cancelled Flights "
   ]
  },
  {
   "cell_type": "code",
   "execution_count": 3,
   "metadata": {},
   "outputs": [
    {
     "name": "stdout",
     "output_type": "stream",
     "text": [
      "| Country Name              |   Count Cancelled or Delayed |   Count All |   Percent Cancelled or Delayed |\n",
      "|:--------------------------|-----------------------------:|------------:|-------------------------------:|\n",
      "| Palau                     |                            5 |           5 |                       100      |\n",
      "| Isle of Man               |                           11 |          12 |                        91.6667 |\n",
      "| Sint Maarten (Dutch part) |                            8 |           9 |                        88.8889 |\n",
      "| Albania                   |                           10 |          12 |                        83.3333 |\n",
      "| Guernsey                  |                           13 |          16 |                        81.25   |\n",
      "| Virgin Islands, British   |                           25 |          31 |                        80.6452 |\n",
      "| Réunion                   |                           16 |          20 |                        80      |\n",
      "| Georgia                   |                           28 |          35 |                        80      |\n",
      "| Anguilla                  |                           11 |          14 |                        78.5714 |\n",
      "| North Macedonia           |                           20 |          26 |                        76.9231 |\n"
     ]
    }
   ],
   "source": [
    "import pandas as pd\n",
    "\n",
    "# Load the dataset\n",
    "data = pd.read_csv('Airline.csv')\n",
    "\n",
    "# Group data by 'Country Name' and 'Flight Status' and count occurrences\n",
    "country_status_counts = data.groupby(['Country Name', 'Flight Status']).size().unstack(fill_value=0)\n",
    "\n",
    "# Calculate the total flights for each country\n",
    "country_status_counts['Total Flights'] = country_status_counts.sum(axis=1)\n",
    "\n",
    "# Calculate the count of Cancelled or Delayed flights\n",
    "country_status_counts['Count Cancelled or Delayed'] = country_status_counts.get('Cancelled', 0) + country_status_counts.get('Delayed', 0)\n",
    "\n",
    "# Calculate the percentage of Cancelled or Delayed flights\n",
    "country_status_counts['Percent Cancelled or Delayed'] = (country_status_counts['Count Cancelled or Delayed'] / country_status_counts['Total Flights']) * 100\n",
    "\n",
    "# Sort the countries by 'Percent Cancelled or Delayed' in descending order and get the top 10\n",
    "top_countries = country_status_counts.sort_values('Percent Cancelled or Delayed', ascending=False).head(10)\n",
    "\n",
    "# Prepare the DataFrame to display\n",
    "final_country_df = pd.DataFrame({\n",
    "    'Country Name': top_countries.index,\n",
    "    'Count Cancelled or Delayed': top_countries['Count Cancelled or Delayed'],\n",
    "    'Count All': top_countries['Total Flights'],\n",
    "    'Percent Cancelled or Delayed': top_countries['Percent Cancelled or Delayed']\n",
    "})\n",
    "\n",
    "# Print the result in the specified format\n",
    "print(final_country_df.to_markdown(index=False))\n"
   ]
  },
  {
   "cell_type": "markdown",
   "metadata": {},
   "source": [
    "Country With the Highest Delayed and Canccelled FLights Filtered by over 500 Flights"
   ]
  },
  {
   "cell_type": "code",
   "execution_count": 4,
   "metadata": {},
   "outputs": [
    {
     "name": "stdout",
     "output_type": "stream",
     "text": [
      "| Country Name   |   Count Cancelled or Delayed |   Count All |   Percent Cancelled or Delayed |\n",
      "|:---------------|-----------------------------:|------------:|-------------------------------:|\n",
      "| Pakistan       |                          494 |         718 |                        68.8022 |\n",
      "| Norway         |                          414 |         603 |                        68.6567 |\n",
      "| Germany        |                          796 |        1161 |                        68.5616 |\n",
      "| Argentina      |                          821 |        1203 |                        68.2461 |\n",
      "| Italy          |                          456 |         669 |                        68.1614 |\n",
      "| France         |                          939 |        1382 |                        67.945  |\n",
      "| Canada         |                         3682 |        5424 |                        67.8835 |\n",
      "| United Kingdom |                          926 |        1371 |                        67.5419 |\n",
      "| Turkey         |                          475 |         704 |                        67.4716 |\n",
      "| Philippines    |                          522 |         778 |                        67.0951 |\n"
     ]
    },
    {
     "name": "stderr",
     "output_type": "stream",
     "text": [
      "/var/folders/3j/8gfzhp5116bd4ybnpdl641gc0000gn/T/ipykernel_53579/228989200.py:16: SettingWithCopyWarning: \n",
      "A value is trying to be set on a copy of a slice from a DataFrame.\n",
      "Try using .loc[row_indexer,col_indexer] = value instead\n",
      "\n",
      "See the caveats in the documentation: https://pandas.pydata.org/pandas-docs/stable/user_guide/indexing.html#returning-a-view-versus-a-copy\n",
      "  countries_over_500['Count Cancelled or Delayed'] = countries_over_500.get('Cancelled', 0) + countries_over_500.get('Delayed', 0)\n",
      "/var/folders/3j/8gfzhp5116bd4ybnpdl641gc0000gn/T/ipykernel_53579/228989200.py:19: SettingWithCopyWarning: \n",
      "A value is trying to be set on a copy of a slice from a DataFrame.\n",
      "Try using .loc[row_indexer,col_indexer] = value instead\n",
      "\n",
      "See the caveats in the documentation: https://pandas.pydata.org/pandas-docs/stable/user_guide/indexing.html#returning-a-view-versus-a-copy\n",
      "  countries_over_500['Percent Cancelled or Delayed'] = (countries_over_500['Count Cancelled or Delayed'] / countries_over_500['Total Flights']) * 100\n"
     ]
    }
   ],
   "source": [
    "import pandas as pd\n",
    "\n",
    "# Load the dataset\n",
    "data = pd.read_csv('Airline.csv')\n",
    "\n",
    "# Group data by 'Country Name' and 'Flight Status' and count occurrences\n",
    "country_status_counts = data.groupby(['Country Name', 'Flight Status']).size().unstack(fill_value=0)\n",
    "\n",
    "# Calculate the total flights for each country\n",
    "country_status_counts['Total Flights'] = country_status_counts.sum(axis=1)\n",
    "\n",
    "# Filter for countries with more than 500 total flights\n",
    "countries_over_500 = country_status_counts[country_status_counts['Total Flights'] > 500]\n",
    "\n",
    "# Calculate the count of Cancelled or Delayed flights\n",
    "countries_over_500['Count Cancelled or Delayed'] = countries_over_500.get('Cancelled', 0) + countries_over_500.get('Delayed', 0)\n",
    "\n",
    "# Calculate the percentage of Cancelled or Delayed flights\n",
    "countries_over_500['Percent Cancelled or Delayed'] = (countries_over_500['Count Cancelled or Delayed'] / countries_over_500['Total Flights']) * 100\n",
    "\n",
    "# Sort the countries by 'Percent Cancelled or Delayed' in descending order and get the top 10\n",
    "top_countries_filtered = countries_over_500.sort_values('Percent Cancelled or Delayed', ascending=False).head(10)\n",
    "\n",
    "# Prepare the DataFrame to display\n",
    "final_country_df_filtered = pd.DataFrame({\n",
    "    'Country Name': top_countries_filtered.index,\n",
    "    'Count Cancelled or Delayed': top_countries_filtered['Count Cancelled or Delayed'],\n",
    "    'Count All': top_countries_filtered['Total Flights'],\n",
    "    'Percent Cancelled or Delayed': top_countries_filtered['Percent Cancelled or Delayed']\n",
    "})\n",
    "\n",
    "# Print the result in the specified format\n",
    "print(final_country_df_filtered.to_markdown(index=False))\n"
   ]
  },
  {
   "cell_type": "markdown",
   "metadata": {},
   "source": [
    "Countries with the Lowest Delayed and Cancelled FLights filtered by over 500 flights "
   ]
  },
  {
   "cell_type": "code",
   "execution_count": 5,
   "metadata": {},
   "outputs": [
    {
     "name": "stdout",
     "output_type": "stream",
     "text": [
      "| Country Name                      |   Count Cancelled or Delayed |   Count All |   Percent Cancelled or Delayed |\n",
      "|:----------------------------------|-----------------------------:|------------:|-------------------------------:|\n",
      "| Japan                             |                          637 |        1004 |                        63.4462 |\n",
      "| Malaysia                          |                          441 |         687 |                        64.1921 |\n",
      "| Chile                             |                          374 |         582 |                        64.2612 |\n",
      "| Ethiopia                          |                          354 |         544 |                        65.0735 |\n",
      "| Colombia                          |                         1072 |        1643 |                        65.2465 |\n",
      "| South Africa                      |                          618 |         945 |                        65.3968 |\n",
      "| India                             |                          973 |        1486 |                        65.4778 |\n",
      "| Venezuela, Bolivarian Republic of |                          479 |         730 |                        65.6164 |\n",
      "| Indonesia                         |                         1548 |        2358 |                        65.6489 |\n",
      "| Madagascar                        |                          436 |         663 |                        65.7617 |\n"
     ]
    },
    {
     "name": "stderr",
     "output_type": "stream",
     "text": [
      "/var/folders/3j/8gfzhp5116bd4ybnpdl641gc0000gn/T/ipykernel_53579/2637555207.py:16: SettingWithCopyWarning: \n",
      "A value is trying to be set on a copy of a slice from a DataFrame.\n",
      "Try using .loc[row_indexer,col_indexer] = value instead\n",
      "\n",
      "See the caveats in the documentation: https://pandas.pydata.org/pandas-docs/stable/user_guide/indexing.html#returning-a-view-versus-a-copy\n",
      "  countries_over_500['Count Cancelled or Delayed'] = countries_over_500.get('Cancelled', 0) + countries_over_500.get('Delayed', 0)\n",
      "/var/folders/3j/8gfzhp5116bd4ybnpdl641gc0000gn/T/ipykernel_53579/2637555207.py:19: SettingWithCopyWarning: \n",
      "A value is trying to be set on a copy of a slice from a DataFrame.\n",
      "Try using .loc[row_indexer,col_indexer] = value instead\n",
      "\n",
      "See the caveats in the documentation: https://pandas.pydata.org/pandas-docs/stable/user_guide/indexing.html#returning-a-view-versus-a-copy\n",
      "  countries_over_500['Percent Cancelled or Delayed'] = (countries_over_500['Count Cancelled or Delayed'] / countries_over_500['Total Flights']) * 100\n"
     ]
    }
   ],
   "source": [
    "import pandas as pd\n",
    "\n",
    "# Load the dataset\n",
    "data = pd.read_csv('Airline.csv')\n",
    "\n",
    "# Group data by 'Country Name' and 'Flight Status' and count occurrences\n",
    "country_status_counts = data.groupby(['Country Name', 'Flight Status']).size().unstack(fill_value=0)\n",
    "\n",
    "# Calculate the total flights for each country\n",
    "country_status_counts['Total Flights'] = country_status_counts.sum(axis=1)\n",
    "\n",
    "# Filter for countries with more than 500 total flights\n",
    "countries_over_500 = country_status_counts[country_status_counts['Total Flights'] > 500]\n",
    "\n",
    "# Calculate the count of Cancelled or Delayed flights\n",
    "countries_over_500['Count Cancelled or Delayed'] = countries_over_500.get('Cancelled', 0) + countries_over_500.get('Delayed', 0)\n",
    "\n",
    "# Calculate the percentage of Cancelled or Delayed flights\n",
    "countries_over_500['Percent Cancelled or Delayed'] = (countries_over_500['Count Cancelled or Delayed'] / countries_over_500['Total Flights']) * 100\n",
    "\n",
    "# Sort the countries by 'Percent Cancelled or Delayed' in ascending order to find the least affected and get the top 10\n",
    "least_affected_countries = countries_over_500.sort_values('Percent Cancelled or Delayed', ascending=True).head(10)\n",
    "\n",
    "# Prepare the DataFrame to display\n",
    "final_least_affected_df = pd.DataFrame({\n",
    "    'Country Name': least_affected_countries.index,\n",
    "    'Count Cancelled or Delayed': least_affected_countries['Count Cancelled or Delayed'],\n",
    "    'Count All': least_affected_countries['Total Flights'],\n",
    "    'Percent Cancelled or Delayed': least_affected_countries['Percent Cancelled or Delayed']\n",
    "})\n",
    "\n",
    "# Print the result in the specified format\n",
    "print(final_least_affected_df.to_markdown(index=False))\n"
   ]
  },
  {
   "cell_type": "markdown",
   "metadata": {},
   "source": [
    "Continent With the Highest Delayed and Cancelled Flights "
   ]
  },
  {
   "cell_type": "code",
   "execution_count": 6,
   "metadata": {},
   "outputs": [
    {
     "name": "stdout",
     "output_type": "stream",
     "text": [
      "| Airport Continent   | Continent   |   Count Cancelled or Delayed |   Count All |   Percent Cancelled or Delayed |\n",
      "|:--------------------|:------------|-----------------------------:|------------:|-------------------------------:|\n",
      "| EU                  | EU          |                         8273 |       12335 |                        67.0693 |\n",
      "| NAM                 | NAM         |                        21389 |       32033 |                        66.7718 |\n",
      "| OC                  | OC          |                         9253 |       13866 |                        66.7316 |\n",
      "| SAM                 | SAM         |                         7152 |       10718 |                        66.7289 |\n",
      "| AS                  | AS          |                        12395 |       18637 |                        66.5075 |\n",
      "| AF                  | AF          |                         7311 |       11030 |                        66.2829 |\n"
     ]
    }
   ],
   "source": [
    "import pandas as pd\n",
    "\n",
    "# Load the dataset\n",
    "data = pd.read_csv('Airline.csv')\n",
    "\n",
    "# Group data by 'Airport Continent' and 'Flight Status' and count occurrences\n",
    "continent_status_counts = data.groupby(['Airport Continent', 'Flight Status']).size().unstack(fill_value=0)\n",
    "\n",
    "# Calculate the total flights for each continent\n",
    "continent_status_counts['Total Flights'] = continent_status_counts.sum(axis=1)\n",
    "\n",
    "# Calculate the count of Cancelled or Delayed flights\n",
    "continent_status_counts['Count Cancelled or Delayed'] = continent_status_counts.get('Cancelled', 0) + continent_status_counts.get('Delayed', 0)\n",
    "\n",
    "# Calculate the percentage of Cancelled or Delayed flights\n",
    "continent_status_counts['Percent Cancelled or Delayed'] = (continent_status_counts['Count Cancelled or Delayed'] / continent_status_counts['Total Flights']) * 100\n",
    "\n",
    "# Sort the continents by 'Percent Cancelled or Delayed' in descending order\n",
    "sorted_continents = continent_status_counts.sort_values('Percent Cancelled or Delayed', ascending=False)\n",
    "\n",
    "# Prepare the DataFrame to display\n",
    "final_continents_df = pd.DataFrame({\n",
    "    'Continent': sorted_continents.index,\n",
    "    'Count Cancelled or Delayed': sorted_continents['Count Cancelled or Delayed'],\n",
    "    'Count All': sorted_continents['Total Flights'],\n",
    "    'Percent Cancelled or Delayed': sorted_continents['Percent Cancelled or Delayed']\n",
    "})\n",
    "\n",
    "# Print the result\n",
    "print(final_continents_df.to_markdown())\n"
   ]
  },
  {
   "cell_type": "markdown",
   "metadata": {},
   "source": [
    "Day of the Week with the Highest Delayed and Cancelled Flights "
   ]
  },
  {
   "cell_type": "code",
   "execution_count": 8,
   "metadata": {},
   "outputs": [
    {
     "name": "stdout",
     "output_type": "stream",
     "text": [
      "+------------+-------------+-----------------------+----------+\n",
      "|Day of Week |Total Flights|CountCancelledOrDelayed|Percent   |\n",
      "+------------+-------------+-----------------------+----------+\n",
      "|   Friday   |         8462|                   5695|   67.30 |\n",
      "+------------+-------------+-----------------------+----------+\n",
      "|   Monday   |         8758|                   5880|   67.14 |\n",
      "+------------+-------------+-----------------------+----------+\n",
      "| Wednesday  |         8563|                   5731|   66.93 |\n",
      "+------------+-------------+-----------------------+----------+\n",
      "|  Tuesday   |         8386|                   5610|   66.90 |\n",
      "+------------+-------------+-----------------------+----------+\n",
      "|  Saturday  |         7928|                   5282|   66.62 |\n",
      "+------------+-------------+-----------------------+----------+\n",
      "|  Thursday  |         8772|                   5789|   65.99 |\n",
      "+------------+-------------+-----------------------+----------+\n",
      "|   Sunday   |         8789|                   5795|   65.93 |\n",
      "+------------+-------------+-----------------------+----------+\n",
      "\n"
     ]
    },
    {
     "name": "stderr",
     "output_type": "stream",
     "text": [
      "/var/folders/3j/8gfzhp5116bd4ybnpdl641gc0000gn/T/ipykernel_53579/4272378026.py:7: UserWarning: The argument 'infer_datetime_format' is deprecated and will be removed in a future version. A strict version of it is now the default, see https://pandas.pydata.org/pdeps/0004-consistent-to-datetime-parsing.html. You can safely remove this argument.\n",
      "  data['Departure Date'] = pd.to_datetime(data['Departure Date'], errors='coerce', infer_datetime_format=True)\n"
     ]
    }
   ],
   "source": [
    "import pandas as pd\n",
    "\n",
    "# Load the dataset\n",
    "data = pd.read_csv('Airline.csv')\n",
    "\n",
    "# Convert 'Departure Date' to datetime, inferring date format and coercing errors\n",
    "data['Departure Date'] = pd.to_datetime(data['Departure Date'], errors='coerce', infer_datetime_format=True)\n",
    "\n",
    "# Extract day of the week from the 'Departure Date'\n",
    "data['Day of Week'] = data['Departure Date'].dt.day_name()\n",
    "\n",
    "# Create a binary column for delays and cancellations\n",
    "data['CancelledOrDelayed'] = data['Flight Status'].apply(lambda x: 1 if x in ['Delayed', 'Cancelled'] else 0)\n",
    "\n",
    "# Group by 'Day of Week' and calculate statistics\n",
    "weekly_summary = data.groupby('Day of Week').agg({\n",
    "    'CancelledOrDelayed': ['sum', 'count']\n",
    "})\n",
    "weekly_summary.columns = ['CountCancelledOrDelayed', 'Total Flights']\n",
    "\n",
    "# Calculate the percentage of cancelled or delayed flights\n",
    "weekly_summary['Percent'] = (weekly_summary['CountCancelledOrDelayed'] / weekly_summary['Total Flights']) * 100\n",
    "\n",
    "# Format and print the table\n",
    "formatted_table = weekly_summary[['Total Flights', 'CountCancelledOrDelayed', 'Percent']].reset_index()\n",
    "formatted_table = formatted_table.sort_values('Percent', ascending=False)  # Sort by highest percentage\n",
    "\n",
    "# Prepare the print format\n",
    "output = \"+------------+-------------+-----------------------+----------+\\n\"\n",
    "output += \"|Day of Week |Total Flights|CountCancelledOrDelayed|Percent   |\\n\"\n",
    "output += \"+------------+-------------+-----------------------+----------+\\n\"\n",
    "for index, row in formatted_table.iterrows():\n",
    "    day = row['Day of Week'].center(12)\n",
    "    total_flights = str(row['Total Flights']).rjust(13)\n",
    "    cancelled_or_delayed = str(row['CountCancelledOrDelayed']).rjust(23)\n",
    "    percent = f\"{row['Percent']:.2f}\".rjust(8)  # Right justify and format to 2 decimal places\n",
    "    output += f\"|{day}|{total_flights}|{cancelled_or_delayed}|{percent} |\\n\"\n",
    "    output += \"+------------+-------------+-----------------------+----------+\\n\"\n",
    "\n",
    "print(output)\n"
   ]
  },
  {
   "cell_type": "markdown",
   "metadata": {},
   "source": [
    "Month With the Highest Delayed and Canclled Flights"
   ]
  },
  {
   "cell_type": "code",
   "execution_count": 10,
   "metadata": {},
   "outputs": [
    {
     "name": "stdout",
     "output_type": "stream",
     "text": [
      "+---------+-------------+-----------------------+----------+\n",
      "| Month   |Total Flights|CountCancelledOrDelayed|Percent   |\n",
      "+---------+-------------+-----------------------+----------+\n",
      "|   May   |       5183.0|                 3508.0|   67.68 |\n",
      "+---------+-------------+-----------------------+----------+\n",
      "|September|       4897.0|                 3311.0|   67.61 |\n",
      "+---------+-------------+-----------------------+----------+\n",
      "| December|       4732.0|                 3171.0|   67.01 |\n",
      "+---------+-------------+-----------------------+----------+\n",
      "|  August |       5233.0|                 3506.0|   67.00 |\n",
      "+---------+-------------+-----------------------+----------+\n",
      "|   June  |       4872.0|                 3256.0|   66.83 |\n",
      "+---------+-------------+-----------------------+----------+\n",
      "| October |       5223.0|                 3488.0|   66.78 |\n",
      "+---------+-------------+-----------------------+----------+\n",
      "|  April  |       4729.0|                 3154.0|   66.69 |\n",
      "+---------+-------------+-----------------------+----------+\n",
      "| February|       4398.0|                 2917.0|   66.33 |\n",
      "+---------+-------------+-----------------------+----------+\n",
      "| November|       4812.0|                 3183.0|   66.15 |\n",
      "+---------+-------------+-----------------------+----------+\n",
      "|  March  |       5195.0|                 3435.0|   66.12 |\n",
      "+---------+-------------+-----------------------+----------+\n",
      "| January |       5217.0|                 3447.0|   66.07 |\n",
      "+---------+-------------+-----------------------+----------+\n",
      "|   July  |       5167.0|                 3406.0|   65.92 |\n",
      "+---------+-------------+-----------------------+----------+\n",
      "\n"
     ]
    },
    {
     "name": "stderr",
     "output_type": "stream",
     "text": [
      "/var/folders/3j/8gfzhp5116bd4ybnpdl641gc0000gn/T/ipykernel_53579/2190259342.py:7: UserWarning: The argument 'infer_datetime_format' is deprecated and will be removed in a future version. A strict version of it is now the default, see https://pandas.pydata.org/pdeps/0004-consistent-to-datetime-parsing.html. You can safely remove this argument.\n",
      "  data['Departure Date'] = pd.to_datetime(data['Departure Date'], errors='coerce', infer_datetime_format=True)\n"
     ]
    }
   ],
   "source": [
    "import pandas as pd\n",
    "\n",
    "# Load the dataset\n",
    "data = pd.read_csv('Airline.csv')\n",
    "\n",
    "# Convert 'Departure Date' to datetime, inferring date format\n",
    "data['Departure Date'] = pd.to_datetime(data['Departure Date'], errors='coerce', infer_datetime_format=True)\n",
    "\n",
    "# Extract the month name\n",
    "data['Month'] = data['Departure Date'].dt.month_name()\n",
    "\n",
    "# Create a binary column for delays and cancellations\n",
    "data['CancelledOrDelayed'] = data['Flight Status'].apply(lambda x: 1 if x in ['Delayed', 'Cancelled'] else 0)\n",
    "\n",
    "# Group by 'Month' and calculate statistics\n",
    "monthly_summary = data.groupby('Month').agg({\n",
    "    'CancelledOrDelayed': ['sum', 'count']\n",
    "})\n",
    "monthly_summary.columns = ['CountCancelledOrDelayed', 'Total Flights']\n",
    "monthly_summary['Percent'] = (monthly_summary['CountCancelledOrDelayed'] / monthly_summary['Total Flights']) * 100\n",
    "\n",
    "# Sort by the highest percentage\n",
    "monthly_summary = monthly_summary.sort_values('Percent', ascending=False)\n",
    "\n",
    "# Format and print the table\n",
    "output = \"+---------+-------------+-----------------------+----------+\\n\"\n",
    "output += \"| Month   |Total Flights|CountCancelledOrDelayed|Percent   |\\n\"\n",
    "output += \"+---------+-------------+-----------------------+----------+\\n\"\n",
    "for index, row in monthly_summary.iterrows():\n",
    "    month = index.center(9)\n",
    "    total_flights = str(row['Total Flights']).rjust(13)\n",
    "    cancelled_or_delayed = str(row['CountCancelledOrDelayed']).rjust(23)\n",
    "    percent = f\"{row['Percent']:.2f}\".rjust(8)  # Right justify and format to 2 decimal places\n",
    "    output += f\"|{month}|{total_flights}|{cancelled_or_delayed}|{percent} |\\n\"\n",
    "    output += \"+---------+-------------+-----------------------+----------+\\n\"\n",
    "\n",
    "print(output)\n"
   ]
  }
 ],
 "metadata": {
  "kernelspec": {
   "display_name": "base",
   "language": "python",
   "name": "python3"
  },
  "language_info": {
   "codemirror_mode": {
    "name": "ipython",
    "version": 3
   },
   "file_extension": ".py",
   "mimetype": "text/x-python",
   "name": "python",
   "nbconvert_exporter": "python",
   "pygments_lexer": "ipython3",
   "version": "3.11.9"
  }
 },
 "nbformat": 4,
 "nbformat_minor": 2
}
